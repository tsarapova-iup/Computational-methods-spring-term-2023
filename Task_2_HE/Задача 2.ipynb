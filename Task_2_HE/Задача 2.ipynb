{
 "cells": [
  {
   "cell_type": "code",
   "execution_count": 13,
   "id": "36d25a97",
   "metadata": {},
   "outputs": [],
   "source": [
    "import numpy as np\n",
    "import math\n",
    "import matplotlib.pyplot as plt\n",
    "import random"
   ]
  },
  {
   "cell_type": "markdown",
   "id": "31b7658a",
   "metadata": {},
   "source": [
    "#### Общая постановка задачи"
   ]
  },
  {
   "cell_type": "markdown",
   "id": "4a78cca1",
   "metadata": {},
   "source": [
    "Уравнение теплопроводности:  \n",
    "$$\n",
    "c \\rho \\frac{\\partial T}{\\partial t} = \\frac{\\partial}{\\partial X} \\left(\\lambda(X, t) \\frac{\\partial T}{\\partial X}\\right) + Q(X, t)\n",
    "$$\n",
    "С начальными условиями:  \n",
    "$$\n",
    "T(X, 0) = T_0\n",
    "$$\n",
    "И с граничными условиями:\n",
    "$$\n",
    "T(0, t) = T_1,\n",
    "$$\n",
    "\n",
    "$$\n",
    "T(l, t) = T_2\n",
    "$$"
   ]
  },
  {
   "cell_type": "markdown",
   "id": "fb02dfb3",
   "metadata": {},
   "source": [
    "#### Обезразмеренная постановка задачи"
   ]
  },
  {
   "cell_type": "markdown",
   "id": "20d18358",
   "metadata": {},
   "source": [
    "Рассмотрим уравнение теплопроводности в безразмерных координатах:  "
   ]
  },
  {
   "cell_type": "markdown",
   "id": "a9805e44",
   "metadata": {},
   "source": [
    "$$\n",
    "\\frac{\\partial u}{\\partial \\tau} = \\frac{\\partial}{\\partial x} \\left(a(x, \\tau) \\frac{\\partial u}{\\partial x}\\right) + q(x, \\tau)\n",
    "$$"
   ]
  },
  {
   "cell_type": "markdown",
   "id": "23f000ab",
   "metadata": {},
   "source": [
    "x - безразмерная координата вдоль стежня \n",
    "$$\n",
    "x = \\frac{X}{l}\n",
    "$$\n",
    "где $l$ - длина стержня.  \n",
    "$$\n",
    "a = \\frac{\\lambda}{c \\rho}\n",
    "$$\n",
    "температура же обезразмеривается с помощью граничных условий\n",
    "$$\n",
    "u = \\frac{T(X, t) - T_0}{T_1 - T_0}\n",
    "$$"
   ]
  },
  {
   "cell_type": "markdown",
   "id": "3579aa10",
   "metadata": {},
   "source": [
    "#### Доп. условие задачи"
   ]
  },
  {
   "cell_type": "markdown",
   "id": "21ea783f",
   "metadata": {},
   "source": [
    "Под условием на $a(x, \\tau)$ подразумеваются два случая:  \n",
    "1. случаное непрерывное распределение,  \n",
    "2. линейная зависимость от температуры"
   ]
  },
  {
   "cell_type": "markdown",
   "id": "5259fe6e",
   "metadata": {},
   "source": [
    "Первый случай задается из рандомного распределения:"
   ]
  },
  {
   "cell_type": "code",
   "execution_count": 193,
   "id": "bc301c2a",
   "metadata": {},
   "outputs": [],
   "source": [
    "#coeffA = [random.random() for _ in range(len(x_j))]"
   ]
  },
  {
   "cell_type": "markdown",
   "id": "50d494cf",
   "metadata": {},
   "source": [
    "Для удобства используется распределение от 0 до 1, чтобы не оказывать влияния на число Куранта.  \n",
    "При необходимости можно другого распределения для явного метода число Куранта будет зависеть от max значения коэффициента $a(x, \\tau)$:\n",
    "\n",
    "$$\n",
    "max(a(x, \\tau)) \\frac{\\tau}{h^2} < \\frac{1}{2}\n",
    "$$"
   ]
  },
  {
   "cell_type": "markdown",
   "id": "97915d0c",
   "metadata": {},
   "source": [
    "Для линейной зависимости от температуры используется следующее соотношение:"
   ]
  },
  {
   "cell_type": "code",
   "execution_count": 2,
   "id": "0156f74f",
   "metadata": {},
   "outputs": [],
   "source": [
    "#coeffA = 0.5 * u[i] + 0.001"
   ]
  },
  {
   "cell_type": "markdown",
   "id": "72eaeca9",
   "metadata": {},
   "source": [
    "#### Варианты начальных и граничных условий, а также, источников."
   ]
  },
  {
   "cell_type": "markdown",
   "id": "742723e9",
   "metadata": {},
   "source": [
    "##### 1)"
   ]
  },
  {
   "cell_type": "markdown",
   "id": "8d993604",
   "metadata": {},
   "source": [
    "Начальные условия:  \n",
    "$$\n",
    "T(x, 0) = const_1\n",
    "$$\n",
    "Граничные условия:\n",
    "$$\n",
    "T(0, t) = const_2,\n",
    "$$\n",
    "\n",
    "$$\n",
    "T(x_{max}, t) = const_3\n",
    "$$\n",
    "Источники отсутствуют"
   ]
  },
  {
   "cell_type": "markdown",
   "id": "e04320fb",
   "metadata": {},
   "source": [
    "Задается внутри функций:"
   ]
  },
  {
   "cell_type": "code",
   "execution_count": 3,
   "id": "e083356d",
   "metadata": {},
   "outputs": [],
   "source": [
    "#u[0] = initialCond\n",
    "#u[:, 0] = 0\n",
    "#u[:, -1] = 1"
   ]
  },
  {
   "cell_type": "markdown",
   "id": "fe8ea5a3",
   "metadata": {},
   "source": [
    "##### 2)"
   ]
  },
  {
   "cell_type": "markdown",
   "id": "f1a1378b",
   "metadata": {},
   "source": [
    "Начальные условия:  \n",
    "$$\n",
    "T(x, 0) = const_1\n",
    "$$\n",
    "Граничные условия:\n",
    "$$\n",
    "T(0, t) = f(t),\n",
    "$$\n",
    "\n",
    "где $f(t)$  - ступенчатая функция \n",
    "$$\n",
    "T(x_{max}, t) = const_3\n",
    "$$\n",
    "  \n",
    "Источники отсутствуют"
   ]
  },
  {
   "cell_type": "markdown",
   "id": "ed3e8f65",
   "metadata": {},
   "source": [
    "Задается внутри функций:"
   ]
  },
  {
   "cell_type": "code",
   "execution_count": 4,
   "id": "55d917e8",
   "metadata": {},
   "outputs": [],
   "source": [
    "#u[0] = initialCond\n",
    "#u[:, 0] = 0 + coeffDeltaT * tau * i \n",
    "#u[:, -1] = 1"
   ]
  },
  {
   "cell_type": "markdown",
   "id": "52db00f8",
   "metadata": {},
   "source": [
    "Где *coeffDeltaT*, во избежание проблем, лучше только уменьшать $->$ делать меньше 1.  \n",
    "*coeffDeltaT* по умолчанию (для условий 1, 3 и 4) равен 0."
   ]
  },
  {
   "cell_type": "markdown",
   "id": "94be2d11",
   "metadata": {},
   "source": [
    "##### 3)"
   ]
  },
  {
   "cell_type": "markdown",
   "id": "9633530e",
   "metadata": {},
   "source": [
    "Начальные условия:  \n",
    "$$\n",
    "T(x, 0) = const_1\n",
    "$$\n",
    "Граничные условия:\n",
    "$$\n",
    "T(0, t) = const_2,\n",
    "$$\n",
    "\n",
    "$$\n",
    "T(x_{max}, t) = const_3\n",
    "$$\n",
    "Источники:\n",
    "$$\n",
    "Q(x_1, t) = const_4\n",
    "$$"
   ]
  },
  {
   "cell_type": "markdown",
   "id": "e37ab673",
   "metadata": {},
   "source": [
    "Задается внутри функций:"
   ]
  },
  {
   "cell_type": "code",
   "execution_count": 5,
   "id": "4640ed4a",
   "metadata": {},
   "outputs": [],
   "source": [
    "#u[0] = initialCond\n",
    "#u[:, 0] = 0\n",
    "#u[:, -1] = 1\n",
    "#Q[:, xwithQ] = constQ"
   ]
  },
  {
   "cell_type": "markdown",
   "id": "3f552266",
   "metadata": {},
   "source": [
    "При *constQ = -1* источники выключены. Для включения источников нужно передать в переменную *constQ* значение $const_4$."
   ]
  },
  {
   "cell_type": "markdown",
   "id": "0121ea9c",
   "metadata": {},
   "source": [
    "##### 4)"
   ]
  },
  {
   "cell_type": "markdown",
   "id": "be78ad0b",
   "metadata": {},
   "source": [
    "Начальные условия:  \n",
    "$$\n",
    "T(x, 0) = const_1\n",
    "$$\n",
    "Граничные условия:\n",
    "$$\n",
    "T(0, t) = const_2,\n",
    "$$\n",
    "\n",
    "$$\n",
    "T(x_{max}, t) = const_3\n",
    "$$\n",
    "Источники:\n",
    "$$\n",
    "Q(x_1, t) = g(t)\n",
    "$$\n",
    "$g(t)$ аналогична $f(t)$"
   ]
  },
  {
   "cell_type": "markdown",
   "id": "e46a21b8",
   "metadata": {},
   "source": [
    "Задается внутри функций:"
   ]
  },
  {
   "cell_type": "code",
   "execution_count": 6,
   "id": "1e7fac99",
   "metadata": {},
   "outputs": [],
   "source": [
    "#u[0] = initialCond\n",
    "#u[:, 0] = 0\n",
    "#u[:, -1] = 1\n",
    "#Q[:, xwithQ] = 0 + coeffDeltaQ * tau * i"
   ]
  },
  {
   "cell_type": "markdown",
   "id": "9a540f34",
   "metadata": {},
   "source": [
    "Поверка на условие в источниках осуществляется по переменной *xwithQ*."
   ]
  },
  {
   "cell_type": "markdown",
   "id": "d79d5664",
   "metadata": {},
   "source": [
    "Функция для проверки выполнения условия Куранта."
   ]
  },
  {
   "cell_type": "code",
   "execution_count": 7,
   "id": "0901f606",
   "metadata": {},
   "outputs": [],
   "source": [
    "def CourantCheck(tau, h):\n",
    "    if (tau / h**2) >= 0.5:\n",
    "        print(\"Change tau! Or suffer from hopelessness.\")\n",
    "        return False"
   ]
  },
  {
   "cell_type": "code",
   "execution_count": 16,
   "id": "a7dc750b",
   "metadata": {},
   "outputs": [],
   "source": [
    "tau = 1 / 100000\n",
    "h = 1 / 100\n",
    "x_j = np.arange(0, 1 + h, h)\n",
    "t_i = np.arange(0, 1 + tau, tau)\n",
    "u = np.zeros([len(t_i), len(x_j)])\n",
    "Q = np.zeros([len(t_i), len(x_j)])"
   ]
  },
  {
   "cell_type": "markdown",
   "id": "3ba3865a",
   "metadata": {},
   "source": [
    "Явная разностная схема:\n",
    "\n",
    "$$\n",
    "u_k^{n + 1} = u_k^n + \\tau q_k^n + \\frac{\\tau}{h} \\left(a_{k + 1/2}^n \\frac{u_{k + 1}^n - u_k^n}{h} - a_{k - 1/2}^n \\frac{u_k^n - u_{k - 1}^n}{h}\\right)\n",
    "$$\n",
    "\n",
    "где \n",
    "$$\n",
    "a_{k + 1/2}^n = \\frac{a_{k + 1}^n + a_k^n}{2}\n",
    "$$"
   ]
  },
  {
   "cell_type": "markdown",
   "id": "502a8021",
   "metadata": {},
   "source": [
    "Функция, вычисляющая явно значение в безразмерных координатах."
   ]
  },
  {
   "cell_type": "code",
   "execution_count": 36,
   "id": "e85a3bdb",
   "metadata": {},
   "outputs": [],
   "source": [
    "def explicitSolver(initialCond, stepsByTime = 100000, stepsByX = 100,  \n",
    "                   coeffDeltaT = 0, coeffDeltaQ = 0, xWithQ = -1, constQ = -1,\n",
    "                   temperatureDependence = False):\n",
    "    \"\"\"Явное решение уравнения теплопроводности\n",
    "    \n",
    "    :initialCond: начальное значение температуры, лучше от 0 до 1\n",
    "    :stepsByTime: количество шагов по времени, по умолчанию 100000\n",
    "    :stepsByX: количество шагов по x, по умочанию 100\n",
    "    :coeffDeltaT: приращение по температуре для случая 2 граничных условий\n",
    "    :xWithQ: элемент x_1 массива, в котором различается значение источника, если равен -1, то точечный источник выключен\n",
    "    :constQ: значение точечного источника для случая 3 граничных условий\n",
    "    :temperatureDependence: зависимость от температуры коэффициента а, по умолчанию отсутствует\n",
    "    \"\"\"\n",
    "      \n",
    "    tau = 1 / stepsByTime\n",
    "    h = 1 / stepsByX\n",
    "    \n",
    "    message = CourantCheck(tau, h)\n",
    "    if message == False:\n",
    "        return 0, 0\n",
    "    \n",
    "    x_j = np.arange(0, 1 + h, h)\n",
    "    t_i = np.arange(0, 1 + tau, tau)\n",
    "    u = np.zeros([len(t_i), len(x_j)])\n",
    "    Q = np.zeros([len(t_i), len(x_j)])\n",
    "    \n",
    "    if constQ != -1: # проверка, что источники отсутствуют\n",
    "        Q[:, xWithQ] = constQ\n",
    "    \n",
    "    coeffA = [random.random() for _ in range(len(x_j))]\n",
    "    \n",
    "    for i in range(len(t_i)):\n",
    "        if i == 0:\n",
    "            u[0] = initialCond\n",
    "        else:\n",
    "            for j in range(len(x_j)):\n",
    "                if j == 0:\n",
    "                    u[i, j] = 0 + coeffDeltaT * tau * i \n",
    "                elif j == len(x_j) - 1:\n",
    "                    u[i, j] = 1\n",
    "                else:\n",
    "                    if xWithQ != -1 and j == xWithQ:\n",
    "                        Q[i, j] = 0 + coeffDeltaQ * tau * i\n",
    "                    \n",
    "                    right = 0.5 * (coeffA[j + 1] + coeffA[j]) * (u[i - 1, j + 1] - u[i - 1, j])\n",
    "                    left = 0.5 * (coeffA[j] + coeffA[j - 1]) * (u[i - 1, j] - u[i - 1, j - 1])\n",
    "                    \n",
    "                    u[i][j] = u[i - 1][j] + tau * Q[i - 1][j] + (tau / h**2) * (right - left)\n",
    "        \n",
    "        if temperatureDependence:\n",
    "            coeffA = 0.5 * u[i] + 0.001\n",
    "    \n",
    "    return u, x_j"
   ]
  },
  {
   "cell_type": "code",
   "execution_count": 37,
   "id": "1d23dfb6",
   "metadata": {},
   "outputs": [],
   "source": [
    "u, x_j = explicitSolver(0.1)"
   ]
  },
  {
   "cell_type": "code",
   "execution_count": 38,
   "id": "ca299dbb",
   "metadata": {},
   "outputs": [
    {
     "data": {
      "image/png": "[encoded data removed]",
      "text/plain": [
       "<Figure size 640x480 with 1 Axes>"
      ]
     },
     "metadata": {},
     "output_type": "display_data"
    }
   ],
   "source": [
    "plt.plot(x_j, u[-1])\n",
    "plt.show()"
   ]
  },
  {
   "cell_type": "markdown",
   "id": "00fbe033",
   "metadata": {},
   "source": [
    "Функция, вычисляющая неявно значение в безразмерных координатах."
   ]
  },
  {
   "cell_type": "code",
   "execution_count": 27,
   "id": "73b03958",
   "metadata": {},
   "outputs": [],
   "source": [
    "def implicitSolver(initialCond, stepsByTime = 100000, stepsByX = 100,  \n",
    "                   coeffDeltaT = 0, coeffDeltaQ = 0, xWithQ = -1, constQ = -1,\n",
    "                   temperatureDependence = False):\n",
    "    \n",
    "    tau = 1 / stepsByTime\n",
    "    h = 1 / stepsByX\n",
    "    \n",
    "    x_j = np.arange(0, 1 + h, h) # x - ksi - обезразмеренная \n",
    "    t_i = np.arange(0, 1 + tau, tau)\n",
    "    u = np.zeros([len(t_i), len(x_j)])\n",
    "    Q = np.zeros([len(t_i), len(x_j)])\n",
    "    \n",
    "    if constQ != -1:\n",
    "        Q[:, xWithQ] = constQ\n",
    "    \n",
    "    coeffA = [random.random() for _ in range(len(x_j))]\n",
    "    \n",
    "    for i in range(len(t_i)):\n",
    "    \n",
    "        alpha = np.zeros(len(x_j))\n",
    "        beta = np.zeros(len(x_j))\n",
    "    \n",
    "        if i == 0:\n",
    "            u[0] = initialCond\n",
    "        \n",
    "        else:\n",
    "            for j in range(len(x_j)):\n",
    "                if j == 0:\n",
    "                    u[i, j] = 0 + coeffDeltaT * tau * i \n",
    "                \n",
    "                    beta[0] = u[i, j]  \n",
    "                    alpha[0] = 0\n",
    "                \n",
    "                elif j == len(x_j) - 1:\n",
    "                    u[i, j] = 1\n",
    "                else:\n",
    "                    \n",
    "                    if xWithQ != -1 and j == xWithQ:\n",
    "                        Q[i, j] = 0 + coeffDeltaQ * tau * i\n",
    "                    \n",
    "                    A = (tau / h**2) * 0.5 * (coeffA[j] + coeffA[j - 1])\n",
    "                    B = - 1 - (tau / h**2) * (0.5 * (coeffA[j + 1] + coeffA[j]) + 0.5 * (coeffA[j] + coeffA[j - 1]))\n",
    "                    C = (tau / h**2) * 0.5 * (coeffA[j + 1] + coeffA[j])\n",
    "                    F = - tau * Q[i - 1, j] - u[i - 1, j]\n",
    "                \n",
    "                    alpha[j] = - C / (A * alpha[j - 1] + B)\n",
    "                    beta[j] = (F - A * beta[j - 1]) / (A * alpha[j - 1] + B)\n",
    "                \n",
    "            for j in range(len(x_j) - 1, 0, -1):\n",
    "                u[i, j - 1] = alpha[j - 1] * u[i, j] + beta[j - 1]\n",
    "        \n",
    "        if temperatureDependence:\n",
    "            coeffA = 0.5 * u[i] + 0.001\n",
    "            \n",
    "    return u, x_j"
   ]
  },
  {
   "cell_type": "code",
   "execution_count": 28,
   "id": "b8c9494e",
   "metadata": {},
   "outputs": [],
   "source": [
    "u, x_j = implicitSolver(0.4)"
   ]
  },
  {
   "cell_type": "code",
   "execution_count": 192,
   "id": "307de8b3",
   "metadata": {},
   "outputs": [
    {
     "data": {
      "image/png": "[encoded data removed]",
      "text/plain": [
       "<Figure size 640x480 with 1 Axes>"
      ]
     },
     "metadata": {},
     "output_type": "display_data"
    }
   ],
   "source": [
    "plt.plot(x_j, u[-1])\n",
    "plt.show()"
   ]
  },
  {
   "cell_type": "code",
   "execution_count": null,
   "id": "2f770423",
   "metadata": {},
   "outputs": [],
   "source": [
    "Тут должна быть функция, объединяющая эти две"
   ]
  }
 ],
 "metadata": {
  "kernelspec": {
   "display_name": "Python 3 (ipykernel)",
   "language": "python",
   "name": "python3"
  },
  "language_info": {
   "codemirror_mode": {
    "name": "ipython",
    "version": 3
   },
   "file_extension": ".py",
   "mimetype": "text/x-python",
   "name": "python",
   "nbconvert_exporter": "python",
   "pygments_lexer": "ipython3",
   "version": "3.9.13"
  }
 },
 "nbformat": 4,
 "nbformat_minor": 5
}
